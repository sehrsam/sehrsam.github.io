{
 "cells": [
  {
   "cell_type": "code",
   "execution_count": 1,
   "id": "a421762f-aa8c-434d-814d-e7bb2680b040",
   "metadata": {},
   "outputs": [],
   "source": [
    "from folktables import ACSDataSource, ACSEmployment, BasicProblem, adult_filter\n",
    "import numpy as np\n",
    "\n",
    "np.random.seed(1234)\n",
    "STATE = \"WI\"\n",
    "\n",
    "data_source = ACSDataSource(survey_year='2018', \n",
    "                            horizon='1-Year', \n",
    "                            survey='person')\n",
    "\n",
    "acs_data = data_source.get_data(states=[STATE], download=True)\n",
    "\n"
   ]
  },
  {
   "cell_type": "code",
   "execution_count": 2,
   "id": "b8180739-9df6-41de-b743-86fde30eaac5",
   "metadata": {},
   "outputs": [],
   "source": [
    "possible_features=['AGEP', 'SCHL', 'MAR', 'RELP', 'DIS', 'ESP', 'CIT', 'MIG', 'MIL', 'ANC', 'NATIVITY', 'DEAR', 'DEYE', 'DREM', 'SEX', 'RAC1P', 'ESR']\n",
    "features_to_use = [f for f in possible_features if f not in [\"ESR\", \"RAC1P\"]]\n",
    "\n"
   ]
  },
  {
   "cell_type": "markdown",
   "id": "b9f383ac-efb7-40d8-a18f-bbbfa399d607",
   "metadata": {},
   "source": [
    "I intend to audit for racial bias in employment in my home state of Wisconsin."
   ]
  },
  {
   "cell_type": "code",
   "execution_count": 3,
   "id": "e9e82e8f-3217-49c6-a529-1990b3c165c3",
   "metadata": {},
   "outputs": [],
   "source": [
    "EmploymentProblem = BasicProblem(\n",
    "    features=features_to_use,\n",
    "    target='ESR',\n",
    "    target_transform=lambda x: x == 1,\n",
    "    group='RAC1P',\n",
    "    preprocess=lambda x: x,\n",
    "    postprocess=lambda x: np.nan_to_num(x, -1),\n",
    ")\n",
    "\n",
    "features, label, group = EmploymentProblem.df_to_numpy(acs_data)\n"
   ]
  },
  {
   "cell_type": "code",
   "execution_count": 4,
   "id": "1e2019c7-604c-4932-8c23-313e40910868",
   "metadata": {},
   "outputs": [],
   "source": [
    "from sklearn.model_selection import train_test_split\n",
    "X_train, X_test, y_train, y_test, group_train, group_test = train_test_split(\n",
    "    features, label, group, test_size=0.2, random_state=0)"
   ]
  },
  {
   "cell_type": "code",
   "execution_count": null,
   "id": "2ad5c5bd-3dbb-4f67-9742-16349d423479",
   "metadata": {},
   "outputs": [],
   "source": []
  },
  {
   "cell_type": "code",
   "execution_count": 5,
   "id": "1fcccf0c-018a-48cc-b1d2-2c6e04eef243",
   "metadata": {},
   "outputs": [
    {
     "data": {
      "text/plain": [
       "<bound method NDFrame.head of        AGEP  SCHL  MAR  RELP  DIS  ESP  CIT  MIG  MIL  ANC  NATIVITY  DEAR  \\\n",
       "0      12.0   8.0  5.0   2.0  2.0  1.0  1.0  1.0  0.0  2.0       1.0   2.0   \n",
       "1      61.0  16.0  1.0   0.0  2.0  0.0  1.0  1.0  4.0  2.0       1.0   2.0   \n",
       "2      71.0  18.0  2.0   0.0  2.0  0.0  1.0  1.0  4.0  2.0       1.0   2.0   \n",
       "3      82.0  14.0  2.0   0.0  1.0  0.0  1.0  1.0  4.0  1.0       1.0   2.0   \n",
       "4      65.0  16.0  5.0  15.0  2.0  0.0  1.0  3.0  2.0  1.0       1.0   2.0   \n",
       "...     ...   ...  ...   ...  ...  ...  ...  ...  ...  ...       ...   ...   \n",
       "47861  75.0  21.0  5.0   0.0  2.0  0.0  1.0  1.0  3.0  1.0       1.0   2.0   \n",
       "47862  27.0  19.0  5.0  13.0  1.0  0.0  1.0  1.0  4.0  1.0       1.0   1.0   \n",
       "47863  42.0  13.0  3.0  13.0  2.0  0.0  1.0  1.0  4.0  4.0       1.0   2.0   \n",
       "47864  50.0  21.0  5.0   0.0  2.0  0.0  1.0  1.0  4.0  1.0       1.0   2.0   \n",
       "47865  80.0   7.0  5.0  16.0  1.0  0.0  1.0  1.0  4.0  4.0       1.0   2.0   \n",
       "\n",
       "       DEYE  DREM  SEX  group  label  \n",
       "0       2.0   2.0  1.0      1  False  \n",
       "1       2.0   2.0  1.0      1  False  \n",
       "2       2.0   2.0  2.0      1  False  \n",
       "3       2.0   2.0  2.0      1  False  \n",
       "4       2.0   2.0  1.0      1  False  \n",
       "...     ...   ...  ...    ...    ...  \n",
       "47861   2.0   2.0  1.0      1  False  \n",
       "47862   2.0   2.0  2.0      1   True  \n",
       "47863   2.0   2.0  2.0      1   True  \n",
       "47864   2.0   2.0  1.0      1   True  \n",
       "47865   2.0   1.0  2.0      1  False  \n",
       "\n",
       "[47866 rows x 17 columns]>"
      ]
     },
     "execution_count": 5,
     "metadata": {},
     "output_type": "execute_result"
    }
   ],
   "source": [
    "import pandas as pd\n",
    "df = pd.DataFrame(X_train, columns = features_to_use)\n",
    "df[\"group\"] = group_train\n",
    "df[\"label\"] = y_train\n",
    "df.head"
   ]
  },
  {
   "cell_type": "markdown",
   "id": "a9447575-9b39-442c-a1f7-5d562305ad41",
   "metadata": {},
   "source": [
    "There are 47866 individuals in this data set."
   ]
  },
  {
   "cell_type": "code",
   "execution_count": 6,
   "id": "45969910-d3a9-4269-95be-0700f82db069",
   "metadata": {},
   "outputs": [
    {
     "data": {
      "text/plain": [
       "label\n",
       "False    24318\n",
       "True     23548\n",
       "dtype: int64"
      ]
     },
     "execution_count": 6,
     "metadata": {},
     "output_type": "execute_result"
    }
   ],
   "source": [
    "df.groupby(\"label\").size()"
   ]
  },
  {
   "cell_type": "markdown",
   "id": "70cb3a09-26ae-4faa-aa21-a473b12f145d",
   "metadata": {},
   "source": [
    "Of these individuals, 24318 are unemployed while 23548 are employed. They are split into the following groups:\n",
    "*White is 1 and Black is 2"
   ]
  },
  {
   "cell_type": "code",
   "execution_count": 7,
   "id": "4b2c479d-df67-4998-821e-b739d6a15d9d",
   "metadata": {},
   "outputs": [
    {
     "data": {
      "text/plain": [
       "group\n",
       "1    43637\n",
       "2     1597\n",
       "3      377\n",
       "4        4\n",
       "5       40\n",
       "6      792\n",
       "7       18\n",
       "8      540\n",
       "9      861\n",
       "dtype: int64"
      ]
     },
     "execution_count": 7,
     "metadata": {},
     "output_type": "execute_result"
    }
   ],
   "source": [
    "df.groupby(\"group\").size()"
   ]
  },
  {
   "cell_type": "markdown",
   "id": "88ed3b2d-9e6e-46be-a533-9adc90d8b1c8",
   "metadata": {},
   "source": [
    "We are focusing on white and black people in this audit. There are 43637 people who identified as white in this data set and 1597 people who identified as black."
   ]
  },
  {
   "cell_type": "code",
   "execution_count": 8,
   "id": "20a84f9b-ed82-4447-9eaf-c7f737d63847",
   "metadata": {},
   "outputs": [
    {
     "data": {
      "text/plain": [
       "group\n",
       "1    0.502624\n",
       "2    0.339386\n",
       "3    0.387268\n",
       "4    0.250000\n",
       "5    0.275000\n",
       "6    0.492424\n",
       "7    0.333333\n",
       "8    0.485185\n",
       "9    0.298490\n",
       "Name: label, dtype: float64"
      ]
     },
     "execution_count": 8,
     "metadata": {},
     "output_type": "execute_result"
    }
   ],
   "source": [
    "df.groupby(\"group\")[\"label\"].mean()"
   ]
  },
  {
   "cell_type": "markdown",
   "id": "a4109b2d-c97c-4c75-a3ed-92c40d69532f",
   "metadata": {},
   "source": [
    "In this data, 50.2% of white people were employed, while 33.9% of black people were employed"
   ]
  },
  {
   "cell_type": "markdown",
   "id": "a19e50d0-7484-4cf3-a9cb-8d14a86acd80",
   "metadata": {},
   "source": [
    "We can also look at sex, and see how the intersection of these two impcact employment."
   ]
  },
  {
   "cell_type": "code",
   "execution_count": 9,
   "id": "b0836eee-dc9d-457a-936b-f44c44c2f68e",
   "metadata": {},
   "outputs": [],
   "source": [
    "race_and_sex = []\n",
    "for x in range (47866):\n",
    "    if df.loc[x,\"group\"]==1 and df.loc[x,\"SEX\"]==1:\n",
    "       race_and_sex.append(\"White Male\")\n",
    "    elif df.loc[x,\"group\"]==1 and df.loc[x,\"SEX\"]==2:\n",
    "        race_and_sex.append(\"White Female\")\n",
    "    elif (df.loc[x,\"group\"]==2 and df.loc[x,\"SEX\"]==1):\n",
    "        race_and_sex.append(\"Black Male\")\n",
    "    elif(df.loc[x,\"group\"]==2 and df.loc[x,\"SEX\"])==2:\n",
    "        race_and_sex.append(\"Black Female\")\n",
    "    else:\n",
    "        race_and_sex.append(\"Other\")\n",
    "        \n",
    "df.insert(1, \"RAS\", race_and_sex)        \n"
   ]
  },
  {
   "cell_type": "code",
   "execution_count": 10,
   "id": "6507183c-a0a2-469d-acb4-b2d1adaf118e",
   "metadata": {},
   "outputs": [
    {
     "data": {
      "image/png": "[encoded data removed]",
      "text/plain": [
       "<Figure size 640x480 with 1 Axes>"
      ]
     },
     "metadata": {},
     "output_type": "display_data"
    }
   ],
   "source": [
    "import seaborn as sns\n",
    "\n",
    "means = df.groupby([\"RAS\"])[\"label\"].mean().reset_index(name = \"mean\")\n",
    "p = sns.barplot(data = means, x = \"RAS\", y = \"mean\")\n",
    "\n"
   ]
  },
  {
   "cell_type": "markdown",
   "id": "7dd95be7-53c6-42c1-9c47-b461e7ab37f5",
   "metadata": {},
   "source": [
    "From this, we can see that white males slightly outpace white females, with both being more employed than any other groups. Black females are slightly behind white females, but the big drop is with black males, of whom less than 30% where employed."
   ]
  },
  {
   "cell_type": "code",
   "execution_count": 11,
   "id": "bfba3c01-fe68-4b98-a9b2-32eb0577cec4",
   "metadata": {},
   "outputs": [],
   "source": [
    "from sklearn.svm import SVC\n",
    "from sklearn.pipeline import make_pipeline\n",
    "from sklearn.preprocessing import StandardScaler\n",
    "from sklearn.metrics import confusion_matrix\n",
    "from sklearn.model_selection import cross_val_score\n",
    "\n",
    "X_train_val = X_train[43000:]\n",
    "y_train_val = y_train[43000:]\n",
    "X_train = X_train[:43000]\n",
    "y_train =y_train[:43000]"
   ]
  },
  {
   "cell_type": "markdown",
   "id": "04ee134c-dbfd-446e-a8c2-c1629b91eb30",
   "metadata": {},
   "source": [
    "Before we create our model, we can try to tune it, using optional parameters and cross validation. We are tuning the C value of the SVC model, which tweaks how the model determines a hyperplane, with a large C value focusing on properly classifying the most pieces of data, and a low value of C focusing on a hyperplane that has the largest margin between it and the pieces of data, ie, as close to halfway between the sets of points."
   ]
  },
  {
   "cell_type": "code",
   "execution_count": 12,
   "id": "5fe42115-5de3-486e-b3ba-df92ca3678d8",
   "metadata": {},
   "outputs": [],
   "source": [
    "\n",
    "scores =[]\n",
    "for i in range (10):\n",
    "    model = make_pipeline(StandardScaler(), SVC(C=i+1))\n",
    "    model.fit(X_train, y_train)\n",
    "    scores.append(model.score(X_train_val, y_train_val))\n",
    "\n",
    "    "
   ]
  },
  {
   "cell_type": "code",
   "execution_count": 13,
   "id": "f99a384c-5673-43e5-a7af-3f21f8876dc2",
   "metadata": {},
   "outputs": [
    {
     "data": {
      "text/plain": [
       "[0.8425811755034937,\n",
       " 0.8419646526921496,\n",
       " 0.8413481298808055,\n",
       " 0.8417591450883682,\n",
       " 0.8417591450883682,\n",
       " 0.842170160295931,\n",
       " 0.8415536374845869,\n",
       " 0.842170160295931,\n",
       " 0.8415536374845869,\n",
       " 0.8401150842581175]"
      ]
     },
     "execution_count": 13,
     "metadata": {},
     "output_type": "execute_result"
    }
   ],
   "source": [
    "scores"
   ]
  },
  {
   "cell_type": "markdown",
   "id": "3fe64108-66cc-4bcf-b537-916e47b7535b",
   "metadata": {},
   "source": [
    "When we tune our model, we see that our tuning does very little, but that we get the highest scores with a C value of 6."
   ]
  },
  {
   "cell_type": "code",
   "execution_count": 19,
   "id": "2b2766e0-4d83-47cf-a0a7-b764cdda0d41",
   "metadata": {},
   "outputs": [
    {
     "data": {
      "text/plain": [
       "0.8439040695245258"
      ]
     },
     "execution_count": 19,
     "metadata": {},
     "output_type": "execute_result"
    }
   ],
   "source": [
    "model = make_pipeline(StandardScaler(), SVC(C=6))\n",
    "model.fit(X_train, y_train)\n",
    "model.score(X_test, y_test)"
   ]
  },
  {
   "cell_type": "markdown",
   "id": "d13f22dc-1288-4e19-937b-0624fbaa62f6",
   "metadata": {},
   "source": [
    "The model has an overall accuracy of 84.39%."
   ]
  },
  {
   "cell_type": "code",
   "execution_count": 15,
   "id": "06414ae4-9815-4fe8-a2a0-a064b9f02bb5",
   "metadata": {},
   "outputs": [],
   "source": [
    "g1 =[]\n",
    "g2 =[]\n",
    "for i in range (11967):\n",
    "    if df.loc[i,\"group\"] == 1:\n",
    "        g1.append(i)\n",
    "    elif df.loc[i, \"group\"]==2:\n",
    "        g2.append(i)\n",
    "\n",
    "from sklearn.metrics import confusion_matrix\n",
    "\n"
   ]
  },
  {
   "cell_type": "code",
   "execution_count": 16,
   "id": "f8a9c800-47b5-4d6a-9ed1-530d28ea0111",
   "metadata": {},
   "outputs": [
    {
     "data": {
      "text/plain": [
       "array([[4494,  653],\n",
       "       [1067, 4683]])"
      ]
     },
     "execution_count": 16,
     "metadata": {},
     "output_type": "execute_result"
    }
   ],
   "source": [
    "y_hat =model.predict(X_test[g1])\n",
    "g1Matrix = confusion_matrix (y_hat, y_test[g1])\n",
    "g1PPV = g1Matrix[0][0]/(g1Matrix[0][0]+g1Matrix[1][0])\n",
    "g1FNR = g1Matrix[1][0]/(g1Matrix[1][0]+g1Matrix[0][0])\n",
    "g1FPR = g1Matrix[0][1]/(g1Matrix[1][1]+g1Matrix[0][1])\n",
    "(y_hat == y_test[g1]).mean()\n",
    "g1Matrix"
   ]
  },
  {
   "cell_type": "markdown",
   "id": "d846249a-52c3-4064-a2c2-4d08fa710127",
   "metadata": {},
   "source": [
    "It has an accuracy of 84.2% for white individuals and 83.9% for black individuals."
   ]
  },
  {
   "cell_type": "code",
   "execution_count": 17,
   "id": "096d8aa3-fb09-492e-996c-a3cc879d56bf",
   "metadata": {},
   "outputs": [
    {
     "data": {
      "text/plain": [
       "array([[174,  23],\n",
       "       [ 43, 171]])"
      ]
     },
     "execution_count": 17,
     "metadata": {},
     "output_type": "execute_result"
    }
   ],
   "source": [
    "y_hat =model.predict(X_test[g2])\n",
    "g2Matrix = confusion_matrix(y_hat, y_test[g2])\n",
    "g2PPV = g2Matrix[0][0]/(g2Matrix[0][0]+g2Matrix[1][0])\n",
    "g2FNR = g2Matrix[1][0]/(g2Matrix[1][0]+g2Matrix[0][0])\n",
    "g2FPR = g2Matrix[0][1]/(g2Matrix[1][1]+g2Matrix[0][1])\n",
    "(y_hat == y_test[g2]).mean()\n",
    "g2Matrix"
   ]
  },
  {
   "cell_type": "markdown",
   "id": "768234bb-add9-4520-84f6-c0ddeea117c0",
   "metadata": {},
   "source": [
    "The model gives the following PPV, FNR and FPR rates:"
   ]
  },
  {
   "cell_type": "code",
   "execution_count": 18,
   "id": "2ddedd16-aa54-4f1a-bc5e-c924a47bc536",
   "metadata": {},
   "outputs": [
    {
     "name": "stdout",
     "output_type": "stream",
     "text": [
      "The PPV for white individuals is :  0.8081280345261643\n",
      "The FNR for white individuals is :  0.19187196547383564\n",
      "The FPR for white individuals is :  0.12237631184407796\n",
      "The PPV for black individuals is :  0.8018433179723502\n",
      "The FNR for black individuals is :  0.19815668202764977\n",
      "The FPR for black individuals is :  0.11855670103092783\n"
     ]
    }
   ],
   "source": [
    "print(\"The PPV for white individuals is : \",g1PPV)\n",
    "print(\"The FNR for white individuals is : \",g1FNR)\n",
    "print(\"The FPR for white individuals is : \",g1FPR)\n",
    "print(\"The PPV for black individuals is : \",g2PPV)\n",
    "print(\"The FNR for black individuals is : \",g2FNR)\n",
    "print(\"The FPR for black individuals is : \",g2FPR)\n",
    "\n"
   ]
  },
  {
   "cell_type": "markdown",
   "id": "0740dd77-12cd-44b0-9551-5004131acaac",
   "metadata": {},
   "source": [
    "This model is calibrated because it doesn't take into account race, and so given a piece of data, the same score would be returned regardless of which group the individual belonged to. This model also satisfies error rate balance, as the false positive and true negative rates are almost identical across our two groups. This model does not satisfy statistical parity, however, as it predicts that 75% of white people are employed while only predicting 47% of black people are employed."
   ]
  },
  {
   "cell_type": "markdown",
   "id": "ae4a813d-fbb7-4785-a2e9-899b9454d0f4",
   "metadata": {},
   "source": [
    "The people who benefit from this algorithm are likely companies that are trying to ascertain interest rates to give on loans or whether or not to give them out at all. While these companies would most likely ask for current employment, they could use this model to predict how likely a person is to remain employed and adjust their decisions accordingly. If this model were to be released and used for this purpose, based on my audit, black individuals would be harmed as they would recieve higher interest rates if they were even granted loans in the first place. Based on my audit, I think that the model displays some bias, which can be seen in the lack of statistical parity. This bias is a a result of a bias in the data itself, which we saw when we looked at the data. This bias worries me, as I fear this model would be used as a way to discriminate while pretending to be fair because it is calibrated and has good error rate balance, but doens't have the context of redlining and discrimination that go into the features it is trained on. Besides the Bias issues inherent in this model, I don't have any big objections with deploying this model."
   ]
  }
 ],
 "metadata": {
  "kernelspec": {
   "display_name": "Python 3 (ipykernel)",
   "language": "python",
   "name": "python3"
  },
  "language_info": {
   "codemirror_mode": {
    "name": "ipython",
    "version": 3
   },
   "file_extension": ".py",
   "mimetype": "text/x-python",
   "name": "python",
   "nbconvert_exporter": "python",
   "pygments_lexer": "ipython3",
   "version": "3.9.16"
  }
 },
 "nbformat": 4,
 "nbformat_minor": 5
}
